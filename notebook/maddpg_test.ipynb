{
 "cells": [
  {
   "cell_type": "markdown",
   "metadata": {},
   "source": [
    "# Multi-Agent Deep Deterministic Policy Gradient for Stock Market"
   ]
  },
  {
   "cell_type": "code",
   "execution_count": 2,
   "metadata": {},
   "outputs": [],
   "source": [
    "import sys\n",
    "#sys.path.insert(0, 'c:\\\\Users\\\\scien\\\\OneDrive\\\\Desktop\\\\fa2022\\\\cs285\\\\stock_market')\n",
    "#sys.path.insert(0) # Mav's computer is dumb and needs a sys hack\n",
    "#print(sys.path) \n",
    "\n",
    "from src.environment.stock_market import StockMarketEnv\n",
    "\n",
    "env = StockMarketEnv(seed=42)\n",
    "state_dict = env.reset()"
   ]
  },
  {
   "cell_type": "code",
   "execution_count": 3,
   "metadata": {},
   "outputs": [
    {
     "name": "stdout",
     "output_type": "stream",
     "text": [
      "({'stock_price': array(100.), 'correlated_stocks': array([149.6714153 ,  86.17356988, 164.76885381, 252.30298564,\n",
      "        76.58466253,  76.58630431, 257.92128155, 176.74347292,\n",
      "        53.05256141, 154.25600436,  53.65823072,  53.42702464,\n",
      "       124.19622716,   1.        ,   1.        ,  43.77124708,\n",
      "         1.        , 131.42473326,   9.19759245]), 'uncorrelated_stocks': array([  1.        , 246.56487689,  77.42236995, 106.75282047,\n",
      "         1.        ,  45.56172755, 111.09225897,   1.        ,\n",
      "       137.56980183,  39.93613101]), 'budgets': array([  100.,   100.,   100.,   100.,   100.,  1000.,  1000.,  1000.,\n",
      "        1000., 10000.]), 'shares_held': array([500., 500., 500., 500., 500., 500., 500., 500., 500., 500.]), 'agent_views': array([[1, 1, 1, 1, 1, 1, 1, 1, 1, 1, 1, 1, 1, 1, 1, 1, 1, 1, 1, 1, 1, 1,\n",
      "        1, 1, 1, 1, 1, 1, 1, 1],\n",
      "       [1, 1, 1, 1, 1, 1, 1, 1, 1, 1, 1, 1, 1, 1, 1, 1, 1, 1, 1, 1, 0, 0,\n",
      "        0, 0, 0, 0, 0, 0, 0, 0],\n",
      "       [1, 1, 1, 1, 1, 1, 1, 1, 1, 1, 1, 1, 1, 1, 1, 1, 1, 1, 1, 1, 1, 1,\n",
      "        1, 1, 1, 1, 1, 1, 1, 1],\n",
      "       [1, 1, 1, 1, 1, 1, 1, 1, 1, 1, 1, 1, 1, 1, 1, 1, 1, 1, 1, 1, 0, 0,\n",
      "        0, 0, 0, 0, 0, 0, 0, 0],\n",
      "       [1, 1, 1, 1, 1, 1, 1, 1, 1, 1, 1, 1, 1, 1, 1, 1, 1, 1, 1, 1, 0, 0,\n",
      "        0, 0, 0, 0, 0, 0, 0, 0],\n",
      "       [1, 1, 1, 1, 1, 1, 1, 1, 1, 1, 1, 1, 1, 1, 1, 1, 1, 1, 1, 1, 1, 1,\n",
      "        1, 1, 1, 1, 1, 1, 1, 1],\n",
      "       [1, 1, 1, 1, 1, 1, 1, 1, 1, 1, 1, 1, 1, 1, 1, 1, 1, 1, 1, 1, 1, 1,\n",
      "        1, 1, 1, 1, 1, 1, 1, 1],\n",
      "       [1, 1, 1, 1, 1, 1, 1, 1, 1, 1, 1, 1, 1, 1, 1, 1, 1, 1, 1, 1, 1, 1,\n",
      "        1, 1, 1, 1, 1, 1, 1, 1],\n",
      "       [1, 1, 1, 1, 1, 1, 1, 1, 1, 1, 1, 1, 1, 1, 1, 1, 1, 1, 1, 1, 0, 0,\n",
      "        0, 0, 0, 0, 0, 0, 0, 0],\n",
      "       [1, 1, 1, 1, 1, 1, 1, 1, 1, 1, 1, 1, 1, 1, 1, 1, 1, 1, 1, 1, 1, 1,\n",
      "        1, 1, 1, 1, 1, 1, 1, 1]]), 'company_states': array([0., 0., 0., 0., 0.])}, None)\n"
     ]
    }
   ],
   "source": [
    "# Process state dictionary\n",
    "# =========================================\n",
    "print(state_dict)"
   ]
  },
  {
   "cell_type": "markdown",
   "metadata": {},
   "source": [
    "---"
   ]
  },
  {
   "cell_type": "code",
   "execution_count": 4,
   "metadata": {},
   "outputs": [
    {
     "name": "stderr",
     "output_type": "stream",
     "text": [
      "c:\\Users\\scien\\anaconda3\\envs\\cs285\\lib\\site-packages\\tqdm\\auto.py:22: TqdmWarning: IProgress not found. Please update jupyter and ipywidgets. See https://ipywidgets.readthedocs.io/en/stable/user_install.html\n",
      "  from .autonotebook import tqdm as notebook_tqdm\n"
     ]
    }
   ],
   "source": [
    "import gym\n",
    "import torch as th\n",
    "from src.critic.ddpg_critic import DDPGCritic\n",
    "from src.memory.replay_buffer import ReplayBuffer\n",
    "from src.policy.ddpg_policy import DDPGPolicy"
   ]
  },
  {
   "cell_type": "code",
   "execution_count": 10,
   "metadata": {},
   "outputs": [],
   "source": [
    "env = gym.make('CartPole-v1',\n",
    "                new_step_api=True,\n",
    "                render_mode='single_rgb_array').unwrapped\n",
    "\n",
    "# Assert high-dimensional observation\n",
    "is_image = len(env.observation_space.shape) > 2\n",
    "# Assert discrete action space\n",
    "is_discrete = isinstance(env.action_space, gym.spaces.Discrete)\n",
    "\n",
    "observation_size = (\n",
    "    env.observation_space.shape if is_image\n",
    "    else env.observation_space.shape[0]\n",
    ")\n",
    "action_size = (\n",
    "    env.action_space.n if is_discrete\n",
    "    else env.action_space.shape[0]\n",
    ")\n",
    "\n",
    "critic = DDPGCritic(\n",
    "    observation_size=observation_size,\n",
    "    action_size=action_size,\n",
    "    critic_net='mlp',\n",
    "    critic_net_kwargs={\n",
    "        'hidden_size': 64,\n",
    "        'num_layers': 2\n",
    "    }\n",
    ")\n",
    "policy = DDPGPolicy(\n",
    "    observation_size=observation_size,\n",
    "    action_size=action_size,\n",
    "    discrete_action=is_discrete,\n",
    "    policy_net='mlp',\n",
    "    policy_net_kwargs={\n",
    "        'hidden_size': 64,\n",
    "        'num_layers': 2\n",
    "    }\n",
    ")\n",
    "\n",
    "replay_buffer = ReplayBuffer(max_size=1000)"
   ]
  },
  {
   "cell_type": "code",
   "execution_count": 16,
   "metadata": {},
   "outputs": [],
   "source": [
    "s = env.reset()\n",
    "a = policy.get_action(th.from_numpy(s).unsqueeze(0))\n",
    "s_, r, done, _, _ = env.step(0)"
   ]
  },
  {
   "cell_type": "code",
   "execution_count": 17,
   "metadata": {},
   "outputs": [
    {
     "data": {
      "text/plain": [
       "(array([-0.04845925,  0.00460652, -0.03577905,  0.02293273], dtype=float32),\n",
       " array([-0.04836712, -0.18998455, -0.0353204 ,  0.3041157 ], dtype=float32))"
      ]
     },
     "execution_count": 17,
     "metadata": {},
     "output_type": "execute_result"
    }
   ],
   "source": [
    "s, s_"
   ]
  },
  {
   "cell_type": "code",
   "execution_count": null,
   "metadata": {},
   "outputs": [],
   "source": []
  }
 ],
 "metadata": {
  "kernelspec": {
   "display_name": "Python 3.7.13 ('cs285')",
   "language": "python",
   "name": "python3"
  },
  "language_info": {
   "codemirror_mode": {
    "name": "ipython",
    "version": 3
   },
   "file_extension": ".py",
   "mimetype": "text/x-python",
   "name": "python",
   "nbconvert_exporter": "python",
   "pygments_lexer": "ipython3",
   "version": "3.7.13"
  },
  "orig_nbformat": 4,
  "vscode": {
   "interpreter": {
    "hash": "301741b6178e895cd863d88071e5e209bc2e8275df61f0784c013bed451d15ae"
   }
  }
 },
 "nbformat": 4,
 "nbformat_minor": 2
}
