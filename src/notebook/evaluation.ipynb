{
 "cells": [
  {
   "cell_type": "markdown",
   "metadata": {},
   "source": [
    "# Evaluation of the MADDPG Stock Market"
   ]
  },
  {
   "cell_type": "code",
   "execution_count": 1,
   "metadata": {},
   "outputs": [],
   "source": [
    "from __future__ import annotations\n",
    "\n",
    "import os\n",
    "from typing import Dict\n",
    "\n",
    "import numpy as np\n",
    "import seaborn as sns\n",
    "import torch as th\n",
    "from gymnasium.spaces import Box, Discrete, Tuple as TupleSpace\n",
    "from matplotlib import pyplot as plt\n",
    "\n",
    "from src.ddpg import DDPGAgent\n",
    "from src.env import LogarithmAndIntActionWrapper, StockMarketEnv\n",
    "from src.types import OptInt, PathLike\n",
    "from src.utils import get_agent_dims, process_step_ac\n",
    "\n",
    "plt.style.use('seaborn-paper')\n",
    "sns.set_style('whitegrid')"
   ]
  },
  {
   "cell_type": "code",
   "execution_count": 2,
   "metadata": {},
   "outputs": [],
   "source": [
    "# Environment Arguments\n",
    "num_agents: int = 10\n",
    "max_cycles: int = 390\n",
    "num_company: int = 5\n",
    "\n",
    "# Network Arguments\n",
    "exp_name: str = 'stock_market_lr_0.001'\n",
    "epoch: int = 100\n",
    "ckpt_dir: PathLike = os.path.join(\n",
    "    f'../../run_logs/28-11-2022_11-29-44_{exp_name:s}',\n",
    "    'checkpoint',\n",
    "    f'{exp_name:s}_{epoch:d}.pt'\n",
    ")\n",
    "os.environ['CUDA_VISIBLE_DEVICES'] = '0'  # Modify accordingly\n",
    "batch_size: int = 64\n",
    "device = th.device('cuda')\n",
    "max_episode_steps: OptInt = None"
   ]
  },
  {
   "cell_type": "code",
   "execution_count": 3,
   "metadata": {},
   "outputs": [
    {
     "name": "stdout",
     "output_type": "stream",
     "text": [
      "Agents:  ['agent_0', 'agent_1', 'agent_2', 'agent_3', 'agent_4', 'agent_5', 'agent_6', 'agent_7', 'agent_8', 'agent_9']\n"
     ]
    }
   ],
   "source": [
    "# Make Stock Market Environment\n",
    "env = LogarithmAndIntActionWrapper(StockMarketEnv(\n",
    "    num_agents=num_agents,\n",
    "    max_cycles=max_cycles,\n",
    "    num_company=num_company\n",
    "))\n",
    "obs_n = env.reset()\n",
    "print('Agents: ', list(obs_n.keys()))"
   ]
  },
  {
   "cell_type": "code",
   "execution_count": 4,
   "metadata": {},
   "outputs": [],
   "source": [
    "# Load checkpoints\n",
    "agents: Dict[str, DDPGAgent] = {}\n",
    "\n",
    "# Initialize environment information\n",
    "agent_dim = get_agent_dims(env)\n",
    "if hasattr(env, 'state_space'):\n",
    "    ob_n_dim = env.state_space.shape[0]\n",
    "else:\n",
    "    ob_n_dim = sum(val[0] for val in agent_dim.values())\n",
    "ac_n_dim = sum(val[1] for val in agent_dim.values())\n",
    "\n",
    "state_dict = th.load(ckpt_dir)\n",
    "for agent_id, (ob_dim, ac_dim) in agent_dim.items():\n",
    "    agent = DDPGAgent(critic_observation_size=ob_n_dim,\n",
    "                     policy_observation_size=ob_dim,\n",
    "                     critic_action_size=ac_n_dim,\n",
    "                     policy_action_size=ac_dim,\n",
    "                     device=device,\n",
    "                     learning_rate=1e-4)\n",
    "    # TODO: Update the following line for new checkpoint file\n",
    "    agent.load_state_dict(state_dict)\n",
    "    agents[agent_id] = agent"
   ]
  },
  {
   "cell_type": "code",
   "execution_count": 6,
   "metadata": {},
   "outputs": [
    {
     "ename": "KeyError",
     "evalue": "'agent_0'",
     "output_type": "error",
     "traceback": [
      "\u001b[0;31m---------------------------------------------------------------------------\u001b[0m",
      "\u001b[0;31mKeyError\u001b[0m                                  Traceback (most recent call last)",
      "\u001b[0;32m/tmp/ipykernel_423503/3426897050.py\u001b[0m in \u001b[0;36m<module>\u001b[0;34m\u001b[0m\n\u001b[1;32m      8\u001b[0m     \u001b[0;32mfor\u001b[0m \u001b[0magent_id\u001b[0m\u001b[0;34m,\u001b[0m \u001b[0mob\u001b[0m \u001b[0;32min\u001b[0m \u001b[0mob_n\u001b[0m\u001b[0;34m.\u001b[0m\u001b[0mitems\u001b[0m\u001b[0;34m(\u001b[0m\u001b[0;34m)\u001b[0m\u001b[0;34m:\u001b[0m\u001b[0;34m\u001b[0m\u001b[0;34m\u001b[0m\u001b[0m\n\u001b[1;32m      9\u001b[0m         \u001b[0mob\u001b[0m \u001b[0;34m=\u001b[0m \u001b[0mth\u001b[0m\u001b[0;34m.\u001b[0m\u001b[0mfrom_numpy\u001b[0m\u001b[0;34m(\u001b[0m\u001b[0mob\u001b[0m\u001b[0;34m)\u001b[0m\u001b[0;34m.\u001b[0m\u001b[0mview\u001b[0m\u001b[0;34m(\u001b[0m\u001b[0;36m1\u001b[0m\u001b[0;34m,\u001b[0m \u001b[0;34m-\u001b[0m\u001b[0;36m1\u001b[0m\u001b[0;34m)\u001b[0m\u001b[0;34m.\u001b[0m\u001b[0mfloat\u001b[0m\u001b[0;34m(\u001b[0m\u001b[0;34m)\u001b[0m\u001b[0;34m.\u001b[0m\u001b[0mto\u001b[0m\u001b[0;34m(\u001b[0m\u001b[0mdevice\u001b[0m\u001b[0;34m)\u001b[0m\u001b[0;34m\u001b[0m\u001b[0;34m\u001b[0m\u001b[0m\n\u001b[0;32m---> 10\u001b[0;31m         \u001b[0mac\u001b[0m \u001b[0;34m=\u001b[0m \u001b[0magents\u001b[0m\u001b[0;34m[\u001b[0m\u001b[0magent_id\u001b[0m\u001b[0;34m]\u001b[0m\u001b[0;34m.\u001b[0m\u001b[0mget_action\u001b[0m\u001b[0;34m(\u001b[0m\u001b[0mob\u001b[0m\u001b[0;34m,\u001b[0m \u001b[0mexplore\u001b[0m\u001b[0;34m=\u001b[0m\u001b[0;32mFalse\u001b[0m\u001b[0;34m)\u001b[0m\u001b[0;34m\u001b[0m\u001b[0;34m\u001b[0m\u001b[0m\n\u001b[0m\u001b[1;32m     11\u001b[0m         \u001b[0mactions\u001b[0m\u001b[0;34m[\u001b[0m\u001b[0magent_id\u001b[0m\u001b[0;34m]\u001b[0m \u001b[0;34m=\u001b[0m \u001b[0mprocess_step_ac\u001b[0m\u001b[0;34m(\u001b[0m\u001b[0mac\u001b[0m\u001b[0;34m)\u001b[0m\u001b[0;34m\u001b[0m\u001b[0;34m\u001b[0m\u001b[0m\n\u001b[1;32m     12\u001b[0m \u001b[0;34m\u001b[0m\u001b[0m\n",
      "\u001b[0;31mKeyError\u001b[0m: 'agent_0'"
     ]
    }
   ],
   "source": [
    "# Evaluation for one episode\n",
    "ob_n = env.reset()\n",
    "state = env.state()\n",
    "episode_done = False\n",
    "step: int = 0\n",
    "while env.agents and not episode_done:\n",
    "    actions = {}\n",
    "    for agent_id, ob in ob_n.items():\n",
    "        ob = th.from_numpy(ob).view(1, -1).float().to(device)\n",
    "        ac = agents[agent_id].get_action(ob, explore=False)\n",
    "        actions[agent_id] = process_step_ac(ac)\n",
    "    \n",
    "    next_ob_n, rew_n, done_n, truncated_n, _ = env.step(actions)\n",
    "        "
   ]
  }
 ],
 "metadata": {
  "kernelspec": {
   "display_name": "Python 3.7.13 ('juanwu_cs285')",
   "language": "python",
   "name": "python3"
  },
  "language_info": {
   "codemirror_mode": {
    "name": "ipython",
    "version": 3
   },
   "file_extension": ".py",
   "mimetype": "text/x-python",
   "name": "python",
   "nbconvert_exporter": "python",
   "pygments_lexer": "ipython3",
   "version": "3.7.13"
  },
  "orig_nbformat": 4,
  "vscode": {
   "interpreter": {
    "hash": "dabfb9edd6f0b01bcba20c8b5c22bed4c56635c47168437081608022d6be55db"
   }
  }
 },
 "nbformat": 4,
 "nbformat_minor": 2
}
