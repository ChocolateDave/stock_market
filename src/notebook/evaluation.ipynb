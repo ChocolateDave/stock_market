{
 "cells": [
  {
   "cell_type": "markdown",
   "metadata": {},
   "source": [
    "# Evaluation of the MADDPG Stock Market"
   ]
  },
  {
   "cell_type": "code",
   "execution_count": 17,
   "metadata": {},
   "outputs": [],
   "source": [
    "from __future__ import annotations\n",
    "\n",
    "import os\n",
    "from typing import Any\n",
    "\n",
    "import numpy as np\n",
    "import seaborn as sns\n",
    "import torch as th\n",
    "from matplotlib import pyplot as plt\n",
    "\n",
    "from src.ddpg import DDPGAgent\n",
    "from src.env import LogarithmAndIntActionWrapper, StockMarketEnv\n",
    "from src.typing import OptInt, PathLike\n",
    "\n",
    "plt.style.use('seaborn-paper')\n",
    "sns.set_style('whitegrid')"
   ]
  },
  {
   "cell_type": "code",
   "execution_count": 20,
   "metadata": {},
   "outputs": [],
   "source": [
    "# Environment Arguments\n",
    "num_agents: int = 10\n",
    "max_cycles: int = 390\n",
    "num_company: int = 5\n",
    "\n",
    "# Network Arguments\n",
    "exp_name: str = 'stock_market_lr_0.001'\n",
    "epoch: int = 100\n",
    "ckpt_dir: PathLike = os.path.join(\n",
    "    f'../run_logs/28-11-2022_11-29-44_{exp_name:s}',\n",
    "    'checkpoint',\n",
    "    f'{exp_name:s}_{epoch:d}.pt'\n",
    ")\n",
    "os.environ['CUDA_VISIBLE_DEVICES'] = '0'  # Modify accordingly\n",
    "batch_size: int = 64\n",
    "device = th.device('cuda')\n",
    "max_episode_steps: OptInt = None"
   ]
  },
  {
   "cell_type": "code",
   "execution_count": 8,
   "metadata": {},
   "outputs": [
    {
     "name": "stdout",
     "output_type": "stream",
     "text": [
      "Agents:  ['agent_0', 'agent_1', 'agent_2', 'agent_3', 'agent_4', 'agent_5', 'agent_6', 'agent_7', 'agent_8', 'agent_9']\n"
     ]
    }
   ],
   "source": [
    "# Make Stock Market Environment\n",
    "env = LogarithmAndIntActionWrapper(StockMarketEnv(\n",
    "    num_agents=num_agents,\n",
    "    max_cycles=max_cycles,\n",
    "    num_company=num_company\n",
    "))\n",
    "obs_n = env.reset()\n",
    "print('Agents: ', list(obs_n.keys()))"
   ]
  },
  {
   "cell_type": "code",
   "execution_count": 25,
   "metadata": {},
   "outputs": [
    {
     "name": "stdout",
     "output_type": "stream",
     "text": [
      "dict_keys(['critic_state_dict', 'critic_opt_state_dict', 'critic_lr_scheduler_state_dict', 'policy_state_dict', 'policy_opt_state_dict', 'policy_lr_scheduler_state_dict'])\n"
     ]
    }
   ],
   "source": [
    "# Load checkpoints\n",
    "state_dict = th.load(ckpt_dir)\n",
    "print(state_dict.keys())"
   ]
  }
 ],
 "metadata": {
  "kernelspec": {
   "display_name": "Python 3.7.13 ('juanwu_cs285')",
   "language": "python",
   "name": "python3"
  },
  "language_info": {
   "codemirror_mode": {
    "name": "ipython",
    "version": 3
   },
   "file_extension": ".py",
   "mimetype": "text/x-python",
   "name": "python",
   "nbconvert_exporter": "python",
   "pygments_lexer": "ipython3",
   "version": "3.7.13"
  },
  "orig_nbformat": 4,
  "vscode": {
   "interpreter": {
    "hash": "dabfb9edd6f0b01bcba20c8b5c22bed4c56635c47168437081608022d6be55db"
   }
  }
 },
 "nbformat": 4,
 "nbformat_minor": 2
}
